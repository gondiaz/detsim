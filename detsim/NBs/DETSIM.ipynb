version https://git-lfs.github.com/spec/v1
oid sha256:a4cc99fc9504d37867c1a078a55fc0a48f73f1e763d529f26aed7f4d4dd945ac
size 37117
